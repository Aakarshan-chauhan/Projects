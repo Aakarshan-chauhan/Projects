{
 "cells": [
  {
   "cell_type": "code",
   "execution_count": 46,
   "metadata": {},
   "outputs": [],
   "source": [
    "import os\n",
    "from os import path\n",
    "import logging\n",
    "import churn_library as cl\n",
    "import pandas as pd\n",
    "\n",
    "logging.basicConfig(\n",
    "    filename='./logs/churn_library.log',\n",
    "    level = logging.INFO,\n",
    "    filemode='w',\n",
    "    format='%(name)s - %(levelname)s - %(message)s')\n",
    "\n",
    "def test_import(import_data):\n",
    "    '''\n",
    "    test data import - this example is completed for you to assist with the other test functions\n",
    "    '''\n",
    "    logging.info(\"Testing import_data()\")\n",
    "    try:\n",
    "        df = import_data(\"./data/BankChurners.csv\")\n",
    "        logging.info(\"SUCCESS : Testing import_data \")\n",
    "    except FileNotFoundError as err:\n",
    "        logging.error(\"Testing import_data: The file wasn't found\")\n",
    "        raise err\n",
    "\n",
    "    try:\n",
    "        assert df.shape[0] > 0\n",
    "        assert df.shape[1] > 0\n",
    "    except AssertionError as err:\n",
    "        logging.error(\"Testing import_data: The file doesn't appear to have rows and columns\")\n",
    "        raise err\n"
   ]
  },
  {
   "cell_type": "code",
   "execution_count": 47,
   "metadata": {},
   "outputs": [],
   "source": [
    "def test_eda(perform_eda):\n",
    "    '''\n",
    "    test perform eda function\n",
    "    '''\n",
    "    logging.info(\"Testing perform_eda()\")\n",
    "    eda_col = ['Income_Category','Education_Level',\n",
    "               'Marital_Status', 'Card_Category',\n",
    "               'Gender','Customer_Age',\n",
    "               'Total_Trans_Ct', 'Attrition_Flag']\n",
    "    for col in eda_col:\n",
    "        try:\n",
    "            assert path.exists(\"./images/eda/{}_distribution.jpg\".format(col)) == True\n",
    "            logging.info(\"SUCCESS : {}_distribution.jpg present! \".format(col))\n",
    "        except AssertionError as err:\n",
    "            logging.error(\"FAILIURE : Can't find image in path named {}_distribution.jpg \".format(col))\n",
    "            raise err\n",
    "            \n",
    "    graph_types = ['heatmap', 'histplots']\n",
    "    for graph in graph_types:\n",
    "        try:\n",
    "            assert path.exists(\"./images/eda/numerical_{}.jpg\".format(graph)) == True\n",
    "            logging.info(\"SUCCESS : numerical_{}.jpg present!\".format(graph))\n",
    "        except AssertionError as err:\n",
    "            logging.error(\"FAILIURE : Can't find image in path named numerical_{}.jpg\".format(graph))\n",
    "            raise err"
   ]
  },
  {
   "cell_type": "code",
   "execution_count": 62,
   "metadata": {},
   "outputs": [],
   "source": [
    "def test_perform_feature_engineering(perform_feature_engineering):\n",
    "    '''\n",
    "    test perform_feature_engineering\n",
    "    '''\n",
    "    feat_imp_model =[\"Random_Forest\" ,\"Logistic_Regression\",\"XGBoost\" ]\n",
    "    logging.info(\"Testing perform_feature_engineering()\")\n",
    "    for key in feat_imp_model:\n",
    "        try:\n",
    "            assert path.exists(\"./images/results/{}.jpg\".format(key)) == True\n",
    "            logging.info(\"SUCCESS : {}.jpg present!\".format(key))\n",
    "        except AssertionError as err:\n",
    "            logging.error(\"Image not found in path named {}.jpg\".format(key))\n",
    "            raise err\n"
   ]
  },
  {
   "cell_type": "code",
   "execution_count": 71,
   "metadata": {},
   "outputs": [],
   "source": [
    "test_import(cl.import_data)\n",
    "test_eda(cl.perform_eda)\n",
    "test_perform_feature_engineering(cl.perform_feature_engineering)\n",
    "test_train_models(cl.train_models)"
   ]
  },
  {
   "cell_type": "code",
   "execution_count": 63,
   "metadata": {},
   "outputs": [
    {
     "data": {
      "text/plain": [
       "False"
      ]
     },
     "execution_count": 63,
     "metadata": {},
     "output_type": "execute_result"
    }
   ],
   "source": [
    "isinstance(cl.transform_encode_dataframe, pd.DataFrame)"
   ]
  },
  {
   "cell_type": "code",
   "execution_count": 70,
   "metadata": {},
   "outputs": [],
   "source": [
    "def test_train_models(train_models):\n",
    "    '''\n",
    "    test train_models\n",
    "    '''\n",
    "    models = [\"logistic\", \"rfc\", \"xgboost\"]\n",
    "    for model in models:\n",
    "        try:\n",
    "            assert path.exists(\"./models/{}_model.pkl\".format(model)) ==True\n",
    "            logging.info(\"SUCCESS : {}_model.pkl present!\".format(model))\n",
    "        except AssertionError as err:\n",
    "            logging.error(\"Model not found in path named {}.jpg\".format(model))\n",
    "            raise err\n",
    "        \n"
   ]
  },
  {
   "cell_type": "code",
   "execution_count": 49,
   "metadata": {},
   "outputs": [],
   "source": [
    "def test_encode_dataframe(transform_encode_dataframe):\n",
    "    '''\n",
    "    test encoder helper\n",
    "    '''\n",
    "    assert isinstance(transform_encode_dataframe, pd.DataFrame)\n",
    "\n"
   ]
  },
  {
   "cell_type": "code",
   "execution_count": 54,
   "metadata": {},
   "outputs": [
    {
     "data": {
      "text/plain": [
       "<function churn_library.transform_encode_dataframe(df)>"
      ]
     },
     "execution_count": 54,
     "metadata": {},
     "output_type": "execute_result"
    }
   ],
   "source": []
  },
  {
   "cell_type": "code",
   "execution_count": null,
   "metadata": {},
   "outputs": [],
   "source": []
  }
 ],
 "metadata": {
  "kernelspec": {
   "display_name": "Python 3",
   "language": "python",
   "name": "python3"
  },
  "language_info": {
   "codemirror_mode": {
    "name": "ipython",
    "version": 3
   },
   "file_extension": ".py",
   "mimetype": "text/x-python",
   "name": "python",
   "nbconvert_exporter": "python",
   "pygments_lexer": "ipython3",
   "version": "3.7.4"
  }
 },
 "nbformat": 4,
 "nbformat_minor": 2
}
